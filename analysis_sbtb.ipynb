{
 "cells": [
  {
   "cell_type": "code",
   "execution_count": 6,
   "metadata": {
    "collapsed": true
   },
   "outputs": [],
   "source": [
    "%matplotlib inline\n",
    "\n",
    "import matplotlib.pyplot as plt\n",
    "import pandas as pd\n",
    "import numpy as np\n",
    "import sqlite3 as sql"
   ]
  },
  {
   "cell_type": "code",
   "execution_count": 9,
   "metadata": {
    "collapsed": false
   },
   "outputs": [
    {
     "name": "stdout",
     "output_type": "stream",
     "text": [
      "   Id Review_date                                               Link  \\\n",
      "0   1  2016-07-06  http://smartbitchestrashybooks.com/reviews/mak...   \n",
      "1   2  2016-07-05  http://smartbitchestrashybooks.com/reviews/her...   \n",
      "2   3  2016-06-30  http://smartbitchestrashybooks.com/reviews/ple...   \n",
      "3   4  2016-06-28  http://smartbitchestrashybooks.com/reviews/all...   \n",
      "4   5  2016-06-23  http://smartbitchestrashybooks.com/reviews/emi...   \n",
      "\n",
      "        Reviewer Grade                     Title            Author  Pub_year  \\\n",
      "0          Elyse    C-          Make Me Love You   Johanna Lindsey      2016   \n",
      "1       Carrie S    B+           Heroine Complex        Sarah Kuhn      2016   \n",
      "2       SB Sarah    B-         Please Release Me      Rhoda Baxter      2015   \n",
      "3  Redheadedgirl     A                    All In  Simona Ahrnstedt      2016   \n",
      "4       SB Sarah    B+  Emily and the Dark Angel       Jo Beverley      1992   \n",
      "\n",
      "                                              Genres  guest_review  \n",
      "0  Historical: European Romance Enemies to Lovers...             0  \n",
      "1       Science Fiction/Fantasy Diverse Protagonists             0  \n",
      "2       Contemporary Romance Romance Women's Fiction             0  \n",
      "3  Contemporary Romance Romance Enemies to Lovers...             0  \n",
      "4  Historical: European Regency Romance Crush Opp...             0  \n"
     ]
    }
   ],
   "source": [
    "# open database, import data into pandas\n",
    "conn = sql.connect(\"sbtb.db\")\n",
    "df = pd.read_sql_query(\"SELECT * from Reviews;\", conn)\n",
    "\n",
    "print(df.head())\n",
    "\n",
    "conn.close()"
   ]
  },
  {
   "cell_type": "code",
   "execution_count": null,
   "metadata": {
    "collapsed": true
   },
   "outputs": [],
   "source": []
  }
 ],
 "metadata": {
  "kernelspec": {
   "display_name": "Python 3",
   "language": "python",
   "name": "python3"
  },
  "language_info": {
   "codemirror_mode": {
    "name": "ipython",
    "version": 3
   },
   "file_extension": ".py",
   "mimetype": "text/x-python",
   "name": "python",
   "nbconvert_exporter": "python",
   "pygments_lexer": "ipython3",
   "version": "3.5.1"
  }
 },
 "nbformat": 4,
 "nbformat_minor": 0
}
