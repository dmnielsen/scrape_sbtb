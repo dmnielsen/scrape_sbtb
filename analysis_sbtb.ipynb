{
 "cells": [
  {
   "cell_type": "markdown",
   "metadata": {},
   "source": [
    "# SBTB grade analysis\n",
    "Do an overview of the data pulled, looking at grade distribution and genres for site and by reviewer."
   ]
  },
  {
   "cell_type": "code",
   "execution_count": 1,
   "metadata": {
    "collapsed": true
   },
   "outputs": [],
   "source": [
    "%matplotlib inline\n",
    "\n",
    "import matplotlib.pyplot as plt\n",
    "import pandas as pd\n",
    "import numpy as np\n",
    "import sqlite3 as sql\n",
    "import pprint"
   ]
  },
  {
   "cell_type": "markdown",
   "metadata": {},
   "source": [
    "---\n",
    "\n",
    "## Load data"
   ]
  },
  {
   "cell_type": "code",
   "execution_count": 2,
   "metadata": {
    "collapsed": false
   },
   "outputs": [
    {
     "name": "stdout",
     "output_type": "stream",
     "text": [
      "   Id Review_date                                               Link  \\\n",
      "0   1  2016-07-06  http://smartbitchestrashybooks.com/reviews/mak...   \n",
      "1   2  2016-07-05  http://smartbitchestrashybooks.com/reviews/her...   \n",
      "2   3  2016-06-30  http://smartbitchestrashybooks.com/reviews/ple...   \n",
      "3   4  2016-06-28  http://smartbitchestrashybooks.com/reviews/all...   \n",
      "4   5  2016-06-23  http://smartbitchestrashybooks.com/reviews/emi...   \n",
      "\n",
      "        Reviewer Grade                     Title            Author  Pub_year  \\\n",
      "0          Elyse    C-          Make Me Love You   Johanna Lindsey    2016.0   \n",
      "1       Carrie S    B+           Heroine Complex        Sarah Kuhn    2016.0   \n",
      "2       SB Sarah    B-         Please Release Me      Rhoda Baxter    2015.0   \n",
      "3  Redheadedgirl     A                    All In  Simona Ahrnstedt    2016.0   \n",
      "4       SB Sarah    B+  Emily and the Dark Angel       Jo Beverley    1992.0   \n",
      "\n",
      "                                           Genres  guest_review  \\\n",
      "0                   Romance; Historical: European             0   \n",
      "1                         Science Fiction/Fantasy             0   \n",
      "2  Women's Fiction; Romance; Contemporary Romance             0   \n",
      "3                   Romance; Contemporary Romance             0   \n",
      "4          Romance; Historical: European; Regency             0   \n",
      "\n",
      "                                       Themes  \n",
      "0  Marriage of Convenience; Enemies to Lovers  \n",
      "1                                              \n",
      "2                                              \n",
      "3                           Enemies to Lovers  \n",
      "4        Small Town; Crush; Opposites Attract  \n"
     ]
    }
   ],
   "source": [
    "# open database, import data into pandas\n",
    "conn = sql.connect(\"sbtb.db\")\n",
    "df = pd.read_sql_query(\"SELECT * from Reviews;\", conn)\n",
    "\n",
    "print(df.head())\n",
    "\n",
    "conn.close()"
   ]
  },
  {
   "cell_type": "markdown",
   "metadata": {},
   "source": [
    "---\n",
    "\n",
    "## Plot reviewer distribution\n",
    "Number of reviews by each unique reviewer"
   ]
  },
  {
   "cell_type": "code",
   "execution_count": 3,
   "metadata": {
    "collapsed": false
   },
   "outputs": [
    {
     "data": {
      "image/png": "[encoded data removed]",
      "text/plain": [
       "<matplotlib.figure.Figure at 0x10d57c780>"
      ]
     },
     "metadata": {},
     "output_type": "display_data"
    }
   ],
   "source": [
    "#print(df['Reviewer'].unique())\n",
    "reviewers = df[['Reviewer','Id']]\n",
    "reviewer_count = reviewers.groupby('Reviewer').count().sort_values('Id')\n",
    "#print(reviewer_count)\n",
    "#reviewer_count.sort_values(['Id']).plot(kind='barh',sort_columns=True,legend=False)\n",
    "\n",
    "y_pos = np.arange(len(reviewer_count))\n",
    "\n",
    "fig = plt.figure(figsize=(8.5, 5))\n",
    "ax = fig.add_subplot(111)\n",
    "ax.set_frame_on(False)\n",
    "\n",
    "ax.barh(y_pos, reviewer_count['Id'], align='center', color='grey', lw=0)\n",
    "ax.set_yticks(y_pos)\n",
    "ax.set_yticklabels(reviewer_count.index)\n",
    "\n",
    "ax.set_xlabel('# reviews', size=14)\n",
    "ax.set_ylabel('Reviewer', size=14)\n",
    "\n",
    "ax.yaxis.set_ticks_position('none')\n",
    "ax.yaxis.set_tick_params(labelsize=12)\n",
    "\n",
    "ax.xaxis.set_ticks_position('bottom')\n",
    "ax.xaxis.set_tick_params(width=2, length=7, color='grey', labelsize=12)\n",
    "\n",
    "\n",
    "plt.show()\n"
   ]
  },
  {
   "cell_type": "markdown",
   "metadata": {},
   "source": [
    "---\n",
    "\n",
    "## Rendering grades\n",
    "\n",
    "For proper rendering of column names, grades should be converted to numbers. Make an inverted grade dictionary with ```-1``` set to 'Misc' for plotting ease. Saved in a new column ```grade_num```.\n",
    "\n",
    "Let's use a 5 point scale +/- 0.3 for plus and minus."
   ]
  },
  {
   "cell_type": "code",
   "execution_count": 4,
   "metadata": {
    "collapsed": false
   },
   "outputs": [],
   "source": [
    "#print(df.Grade.unique())\n",
    "grade_dict = {\n",
    "    'A+': 5.3,\n",
    "    'A' : 5.0,\n",
    "    'A-': 4.7,\n",
    "    'B+': 4.3,\n",
    "    'B' : 4.0,\n",
    "    'B-': 3.7,\n",
    "    'C+': 3.3,\n",
    "    'C' : 3.0,\n",
    "    'C-': 2.7,\n",
    "    'D+': 2.3,\n",
    "    'D' : 2.0,\n",
    "    'D-': 1.7,\n",
    "    'F+': 1.3,\n",
    "    'F' : 1.0,\n",
    "    'DNF' : 0.,\n",
    "    'Rant' : -1,\n",
    "    'Squee' : -1,\n",
    "    'N/A' : -1\n",
    "}\n",
    "\n",
    "grade_dict_invert = {v: k for k, v in grade_dict.items()}\n",
    "grade_dict_invert[-1] = 'Misc'"
   ]
  },
  {
   "cell_type": "code",
   "execution_count": 5,
   "metadata": {
    "collapsed": false
   },
   "outputs": [],
   "source": [
    "for grade in grade_dict:\n",
    "    df.loc[df[\"Grade\"] == grade,\"grade_num\"] = grade_dict[grade]"
   ]
  },
  {
   "cell_type": "markdown",
   "metadata": {},
   "source": [
    "---\n",
    "\n",
    "## Plot grade distribution\n",
    "Full site, all reviews by all reviewers"
   ]
  },
  {
   "cell_type": "code",
   "execution_count": 6,
   "metadata": {
    "collapsed": false
   },
   "outputs": [
    {
     "data": {
      "image/png": "[encoded data removed]",
      "text/plain": [
       "<matplotlib.figure.Figure at 0x11092a710>"
      ]
     },
     "metadata": {},
     "output_type": "display_data"
    }
   ],
   "source": [
    "grades = df[['grade_num','Id']]\n",
    "grades_count = grades.groupby('grade_num').count(); #print((grades_count['Id']))\n",
    "#print(grades_count)\n",
    "#grades_count.sort_values(['Id']).plot(kind='barh',legend=False,grid=True)\n",
    "\n",
    "y_pos = np.arange(len(grades_count)); \n",
    "y_labels = [grade_dict_invert[k] for k in grades_count.index]\n",
    "#print(y_labels)\n",
    "\n",
    "fig = plt.figure(figsize=(8.5, 6))\n",
    "ax = fig.add_subplot(111)\n",
    "ax.set_frame_on(False)\n",
    "\n",
    "ax.barh(y_pos, grades_count['Id'], align='center', color='grey', lw=0)\n",
    "ax.set_yticks(y_pos)\n",
    "ax.set_yticklabels(y_labels)\n",
    "\n",
    "ax.set_xlabel('# reviews', size=14)\n",
    "ax.set_ylabel('Review grade', size=14)\n",
    "\n",
    "ax.yaxis.set_ticks_position('none')\n",
    "ax.yaxis.set_tick_params(labelsize=12)\n",
    "\n",
    "ax.xaxis.set_ticks_position('bottom')\n",
    "ax.xaxis.set_tick_params(width=2, length=7, color='grey', labelsize=12)\n",
    "plt.show()\n",
    "\n",
    "\n",
    "#grades_count.plot(kind='barh',legend=False,grid=True)"
   ]
  },
  {
   "cell_type": "markdown",
   "metadata": {},
   "source": [
    "---\n",
    "\n",
    "## Plot grade distribution by reviewer\n",
    "\n",
    "Now we want to look at grade distributions for each reviewer. \n",
    "I would expect Guest Reviews are going to be bimodal (very positive or very negative)."
   ]
  },
  {
   "cell_type": "code",
   "execution_count": 7,
   "metadata": {
    "collapsed": true
   },
   "outputs": [],
   "source": [
    "def fill_grade_gaps(grade_df):\n",
    "    # Want all possible grades, any not in dataframe will be set to zero\n",
    "    if len(grade_df) == len(grade_dict_invert):\n",
    "        return grade_df\n",
    "    df_zeros = pd.DataFrame(0, index=sorted(list(grade_dict_invert.keys())), columns=['Id'])\n",
    "    return grade_df.add(df_zeros, fill_value=0)"
   ]
  },
  {
   "cell_type": "code",
   "execution_count": 8,
   "metadata": {
    "collapsed": false
   },
   "outputs": [
    {
     "data": {
      "image/png": "[encoded data removed]",
      "text/plain": [
       "<matplotlib.figure.Figure at 0x110955630>"
      ]
     },
     "metadata": {},
     "output_type": "display_data"
    }
   ],
   "source": [
    "reviewers = df['Reviewer'].unique()\n",
    "\n",
    "fig = plt.figure(figsize=(15,25))\n",
    "\n",
    "for i, reviewer in enumerate(reviewer_count.index):\n",
    "    #print(reviewer)\n",
    "    grades = df[df['Reviewer']== reviewer]\n",
    "    grades = grades[['grade_num','Id']]\n",
    "    grades_count = grades.groupby('grade_num').count(); #print(grades_count)\n",
    "    grades_count = fill_grade_gaps(grades_count)\n",
    "    \n",
    "    ax = fig.add_subplot(4,2,7-i)\n",
    "    ax.set_frame_on(False)\n",
    "    \n",
    "    y_pos = np.arange(len(grades_count)); \n",
    "    ax.barh(y_pos, grades_count['Id'], align='center', color='grey', lw=0)\n",
    "    \n",
    "    ax.set_title(reviewer)\n",
    "    \n",
    "    ax.set_yticks(y_pos)\n",
    "    ax.set_yticklabels(y_labels)\n",
    "\n",
    "    ax.set_xlabel('# reviews', size=14)\n",
    "    ax.set_ylabel('Review grade', size=14)\n",
    "\n",
    "    ax.yaxis.set_ticks_position('none')\n",
    "    ax.yaxis.set_tick_params(labelsize=12)\n",
    "\n",
    "    ax.xaxis.set_ticks_position('bottom')\n",
    "    ax.xaxis.set_tick_params(width=2, length=7, color='grey', labelsize=12)\n",
    "\n",
    "    \n",
    "    \n",
    "    \n",
    "    #grades_count.plot(kind='bar',legend=False,grid=True,title=reviewer)\n",
    "    \n",
    "plt.show()"
   ]
  },
  {
   "cell_type": "markdown",
   "metadata": {
    "collapsed": true
   },
   "source": [
    "---\n",
    "\n",
    "## Calculate the review GPA\n",
    "\n",
    "Ignore any of the \"Miscellaneous\" category entries, mostly those are \"Rant\" and \"Squee\" reviews. It's like an audit. \n",
    "\n",
    "This calculation could be put into the title of the above bar charts."
   ]
  },
  {
   "cell_type": "code",
   "execution_count": 9,
   "metadata": {
    "collapsed": false
   },
   "outputs": [
    {
     "name": "stdout",
     "output_type": "stream",
     "text": [
      "Amanda GPA: 3.62\n",
      "Candy GPA: 3.37\n",
      "Guest Reviewer GPA: 4.08\n",
      "Redheadedgirl GPA: 3.82\n",
      "Elyse GPA: 3.81\n",
      "SB Sarah GPA: 3.41\n",
      "Carrie S GPA: 4.07\n"
     ]
    }
   ],
   "source": [
    "for i, reviewer in enumerate(reviewer_count.index):\n",
    "    grades = df[(df['Reviewer']==reviewer) & (df['grade_num']>-1)]['grade_num']\n",
    "    print('{} GPA: {:.2f}'.format(reviewer, grades.sum()/grades.count()))"
   ]
  },
  {
   "cell_type": "markdown",
   "metadata": {},
   "source": [
    "---\n",
    "\n",
    "## Find top genres reviewed\n",
    "\n",
    "I believe \"Romance\" might be one of those genres, so that might need to be kicked out if it's the top genre for all reviewers. There might be issues with how genres were done in the past versus now.\n",
    "\n",
    "Multi-genre books have genres separated by semicolons. First, let's do the whole site, then by reviewer. Looping does not feel like the ideal, but the multi-genre thing is a killer.\n",
    "\n",
    "Let's only look at graded reviews, so those not assigned a \"miscellaneous\" grade."
   ]
  },
  {
   "cell_type": "code",
   "execution_count": 10,
   "metadata": {
    "collapsed": false
   },
   "outputs": [
    {
     "name": "stdout",
     "output_type": "stream",
     "text": [
      "Total reviews: 1261\n",
      "\n",
      "{'Anthology': 2,\n",
      " 'Art': 2,\n",
      " 'Chick Lit': 13,\n",
      " 'Classic': 19,\n",
      " 'Comic': 26,\n",
      " 'Contemporary Romance': 274,\n",
      " 'Contemporary/Other': 10,\n",
      " 'Cookbook': 11,\n",
      " 'Erotica/Erotic Romance': 60,\n",
      " 'Fantasy/Fairy Tale Romance': 12,\n",
      " 'GLBT': 45,\n",
      " 'Gothic': 3,\n",
      " 'Graphic Novel': 18,\n",
      " 'Historical': 165,\n",
      " 'Historical: American': 26,\n",
      " 'Historical: European': 137,\n",
      " 'Historical: Other': 14,\n",
      " 'Horror': 17,\n",
      " 'Humor': 10,\n",
      " 'Inspirational': 1,\n",
      " 'Literary Fiction': 27,\n",
      " 'Memoir': 10,\n",
      " 'Middle Grade': 1,\n",
      " 'Mystery/Thriller': 47,\n",
      " 'New Adult': 19,\n",
      " 'Nonfiction': 86,\n",
      " 'Not a Book': 1,\n",
      " 'Novella': 28,\n",
      " 'Paranormal': 84,\n",
      " 'Regency': 41,\n",
      " 'Romance': 362,\n",
      " 'Romantic Suspense': 41,\n",
      " 'Science Fiction/Fantasy': 215,\n",
      " 'Steampunk': 15,\n",
      " 'Teen Fiction': 2,\n",
      " 'Time Travel': 13,\n",
      " 'Top 100 Banned Books': 21,\n",
      " 'Urban Fantasy': 22,\n",
      " 'Western': 1,\n",
      " \"Women's Fiction\": 13,\n",
      " 'Young Adult': 76}\n"
     ]
    }
   ],
   "source": [
    "genresdb = df[df['grade_num'] > -1]['Genres']; print(\"Total reviews: {}\\n\".format(genresdb.count()))\n",
    "genres = {}\n",
    "for genre in genresdb:\n",
    "    genre_list = [g.strip() for g in genre.split(';')]\n",
    "    for g in genre_list:\n",
    "        genres.setdefault(g, 0)\n",
    "        genres[g] += 1\n",
    "        \n",
    "pprint.pprint(genres)"
   ]
  },
  {
   "cell_type": "markdown",
   "metadata": {},
   "source": [
    "---\n",
    "\n",
    "## Find top 5 genres for each reviewer"
   ]
  },
  {
   "cell_type": "code",
   "execution_count": 11,
   "metadata": {
    "collapsed": false
   },
   "outputs": [
    {
     "name": "stdout",
     "output_type": "stream",
     "text": [
      "\n",
      "Reviewer: Amanda\n",
      "                         count\n",
      "Romance                     34\n",
      "Contemporary Romance        22\n",
      "Erotica/Erotic Romance      12\n",
      "Paranormal                   6\n",
      "Science Fiction/Fantasy      5\n",
      "\n",
      "Reviewer: Candy\n",
      "                         count\n",
      "Historical                  23\n",
      "Science Fiction/Fantasy     10\n",
      "Contemporary Romance        10\n",
      "Paranormal                   8\n",
      "Literary Fiction             3\n",
      "\n",
      "Reviewer: Guest Reviewer\n",
      "                        count\n",
      "Romance                    23\n",
      "Contemporary Romance       19\n",
      "Historical                  9\n",
      "Erotica/Erotic Romance      6\n",
      "GLBT                        6\n",
      "\n",
      "Reviewer: Redheadedgirl\n",
      "                      count\n",
      "Romance                  52\n",
      "Historical: European     32\n",
      "Historical               27\n",
      "Contemporary Romance     13\n",
      "Nonfiction                8\n",
      "\n",
      "Reviewer: Elyse\n",
      "                      count\n",
      "Romance                 114\n",
      "Contemporary Romance     54\n",
      "Historical: European     43\n",
      "Romantic Suspense        26\n",
      "Mystery/Thriller         24\n",
      "\n",
      "Reviewer: SB Sarah\n",
      "                      count\n",
      "Contemporary Romance    131\n",
      "Historical               70\n",
      "Romance                  51\n",
      "Paranormal               35\n",
      "Young Adult              26\n",
      "\n",
      "Reviewer: Carrie S\n",
      "                         count\n",
      "Science Fiction/Fantasy    154\n",
      "Romance                     88\n",
      "Nonfiction                  64\n",
      "Historical: European        45\n",
      "Young Adult                 34\n"
     ]
    }
   ],
   "source": [
    "for i, reviewer in enumerate(reviewer_count.index):\n",
    "    genresdb = df[(df['Reviewer']==reviewer) & (df['grade_num'] > -1)]['Genres']; \n",
    "    \n",
    "    print(\"\\nReviewer: {}\".format(reviewer))\n",
    "    \n",
    "    genres = {}\n",
    "    for genre in genresdb:\n",
    "        genre_list = [g.strip() for g in genre.split(';')]\n",
    "        for g in genre_list:\n",
    "            genres.setdefault(g, 0)\n",
    "            genres[g] += 1\n",
    "    reviewer_genres = pd.DataFrame.from_dict(genres, orient='index').rename(columns={0:'count'})\n",
    "    pprint.pprint(reviewer_genres.sort_values(by='count', ascending=False)[:5])"
   ]
  },
  {
   "cell_type": "code",
   "execution_count": null,
   "metadata": {
    "collapsed": true
   },
   "outputs": [],
   "source": []
  }
 ],
 "metadata": {
  "kernelspec": {
   "display_name": "Python 3",
   "language": "python",
   "name": "python3"
  },
  "language_info": {
   "codemirror_mode": {
    "name": "ipython",
    "version": 3
   },
   "file_extension": ".py",
   "mimetype": "text/x-python",
   "name": "python",
   "nbconvert_exporter": "python",
   "pygments_lexer": "ipython3",
   "version": "3.5.2"
  }
 },
 "nbformat": 4,
 "nbformat_minor": 0
}
