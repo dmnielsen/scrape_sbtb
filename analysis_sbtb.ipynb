{
 "cells": [
  {
   "cell_type": "code",
   "execution_count": null,
   "metadata": {
    "collapsed": true
   },
   "outputs": [],
   "source": [
    "%matplotlib inline\n",
    "\n",
    "import matplotlib.pyplot as plt\n",
    "import pandas as pd\n",
    "import numpy as np\n",
    "import sqlite3 as sql\n",
    "import pprint"
   ]
  },
  {
   "cell_type": "code",
   "execution_count": null,
   "metadata": {
    "collapsed": false
   },
   "outputs": [],
   "source": [
    "# open database, import data into pandas\n",
    "conn = sql.connect(\"sbtb.db\")\n",
    "df = pd.read_sql_query(\"SELECT * from Reviews;\", conn)\n",
    "\n",
    "print(df.head())\n",
    "\n",
    "conn.close()"
   ]
  },
  {
   "cell_type": "code",
   "execution_count": null,
   "metadata": {
    "collapsed": false
   },
   "outputs": [],
   "source": [
    "#print(df['Reviewer'].unique())\n",
    "reviewers = df[['Reviewer','Id']]\n",
    "reviewer_count = reviewers.groupby('Reviewer').count().sort_values('Id')\n",
    "#print(reviewer_count)\n",
    "#reviewer_count.sort_values(['Id']).plot(kind='barh',sort_columns=True,legend=False)\n",
    "\n",
    "y_pos = np.arange(len(reviewer_count))\n",
    "\n",
    "fig = plt.figure(figsize=(8.5, 5))\n",
    "ax = fig.add_subplot(111)\n",
    "ax.set_frame_on(False)\n",
    "\n",
    "ax.barh(y_pos, reviewer_count['Id'], align='center', color='grey', lw=0)\n",
    "ax.set_yticks(y_pos)\n",
    "ax.set_yticklabels(reviewer_count.index)\n",
    "\n",
    "ax.set_xlabel('# reviews', size=14)\n",
    "ax.set_ylabel('Reviewer', size=14)\n",
    "\n",
    "ax.yaxis.set_ticks_position('none')\n",
    "ax.yaxis.set_tick_params(labelsize=12)\n",
    "\n",
    "ax.xaxis.set_ticks_position('bottom')\n",
    "ax.xaxis.set_tick_params(width=2, length=7, color='grey', labelsize=12)\n",
    "\n",
    "\n",
    "plt.show()\n"
   ]
  },
  {
   "cell_type": "markdown",
   "metadata": {},
   "source": [
    "---\n",
    "\n",
    "## Rendering grades\n",
    "\n",
    "For proper rendering of column names, grades should be converted to numbers. Make an inverted grade dictionary with ```-1``` set to 'Misc' for plotting ease. Saved in a new column ```grade_num```.\n",
    "\n",
    "Let's use a 5 point scale +/- 0.3 for plus and minus."
   ]
  },
  {
   "cell_type": "code",
   "execution_count": null,
   "metadata": {
    "collapsed": false
   },
   "outputs": [],
   "source": [
    "#print(df.Grade.unique())\n",
    "grade_dict = {\n",
    "    'A+': 5.3,\n",
    "    'A' : 5.0,\n",
    "    'A-': 4.7,\n",
    "    'B+': 4.3,\n",
    "    'B' : 4.0,\n",
    "    'B-': 3.7,\n",
    "    'C+': 3.3,\n",
    "    'C' : 3.0,\n",
    "    'C-': 2.7,\n",
    "    'D+': 2.3,\n",
    "    'D' : 2.0,\n",
    "    'D-': 1.7,\n",
    "    'F+': 1.3,\n",
    "    'F' : 1.0,\n",
    "    'DNF' : 0.,\n",
    "    'Rant' : -1,\n",
    "    'Squee' : -1,\n",
    "    'N/A' : -1\n",
    "}\n",
    "\n",
    "grade_dict_invert = {v: k for k, v in grade_dict.items()}\n",
    "grade_dict_invert[-1] = 'Misc'"
   ]
  },
  {
   "cell_type": "code",
   "execution_count": null,
   "metadata": {
    "collapsed": false
   },
   "outputs": [],
   "source": [
    "for grade in grade_dict:\n",
    "    df.loc[df[\"Grade\"] == grade,\"grade_num\"] = grade_dict[grade]"
   ]
  },
  {
   "cell_type": "code",
   "execution_count": null,
   "metadata": {
    "collapsed": false
   },
   "outputs": [],
   "source": [
    "grades = df[['grade_num','Id']]\n",
    "grades_count = grades.groupby('grade_num').count(); #print((grades_count['Id']))\n",
    "#print(grades_count)\n",
    "#grades_count.sort_values(['Id']).plot(kind='barh',legend=False,grid=True)\n",
    "\n",
    "y_pos = np.arange(len(grades_count)); \n",
    "y_labels = [grade_dict_invert[k] for k in grades_count.index]\n",
    "#print(y_labels)\n",
    "\n",
    "fig = plt.figure(figsize=(8.5, 6))\n",
    "ax = fig.add_subplot(111)\n",
    "ax.set_frame_on(False)\n",
    "\n",
    "ax.barh(y_pos, grades_count['Id'], align='center', color='grey', lw=0)\n",
    "ax.set_yticks(y_pos)\n",
    "ax.set_yticklabels(y_labels)\n",
    "\n",
    "ax.set_xlabel('# reviews', size=14)\n",
    "ax.set_ylabel('Review grade', size=14)\n",
    "\n",
    "ax.yaxis.set_ticks_position('none')\n",
    "ax.yaxis.set_tick_params(labelsize=12)\n",
    "\n",
    "ax.xaxis.set_ticks_position('bottom')\n",
    "ax.xaxis.set_tick_params(width=2, length=7, color='grey', labelsize=12)\n",
    "plt.show()\n",
    "\n",
    "\n",
    "#grades_count.plot(kind='barh',legend=False,grid=True)"
   ]
  },
  {
   "cell_type": "markdown",
   "metadata": {},
   "source": [
    "Now we want to look at grade distributions for each reviewer. \n",
    "I would expect Guest Reviews are going to be bimodal (very positive or very negative)."
   ]
  },
  {
   "cell_type": "code",
   "execution_count": null,
   "metadata": {
    "collapsed": true
   },
   "outputs": [],
   "source": [
    "def fill_grade_gaps(grade_df):\n",
    "    # Want all possible grades, any not in dataframe will be set to zero\n",
    "    if len(grade_df) == len(grade_dict_invert):\n",
    "        return grade_df\n",
    "    df_zeros = pd.DataFrame(0, index=sorted(list(grade_dict_invert.keys())), columns=['Id'])\n",
    "    return grade_df.add(df_zeros, fill_value=0)"
   ]
  },
  {
   "cell_type": "code",
   "execution_count": null,
   "metadata": {
    "collapsed": false
   },
   "outputs": [],
   "source": [
    "reviewers = df['Reviewer'].unique()\n",
    "\n",
    "fig = plt.figure(figsize=(15,25))\n",
    "\n",
    "for i, reviewer in enumerate(reviewer_count.index):\n",
    "    #print(reviewer)\n",
    "    grades = df[df['Reviewer']== reviewer]\n",
    "    grades = grades[['grade_num','Id']]\n",
    "    grades_count = grades.groupby('grade_num').count(); #print(grades_count)\n",
    "    grades_count = fill_grade_gaps(grades_count)\n",
    "    \n",
    "    ax = fig.add_subplot(4,2,7-i)\n",
    "    ax.set_frame_on(False)\n",
    "    \n",
    "    y_pos = np.arange(len(grades_count)); \n",
    "    ax.barh(y_pos, grades_count['Id'], align='center', color='grey', lw=0)\n",
    "    \n",
    "    ax.set_title(reviewer)\n",
    "    \n",
    "    ax.set_yticks(y_pos)\n",
    "    ax.set_yticklabels(y_labels)\n",
    "\n",
    "    ax.set_xlabel('# reviews', size=14)\n",
    "    ax.set_ylabel('Review grade', size=14)\n",
    "\n",
    "    ax.yaxis.set_ticks_position('none')\n",
    "    ax.yaxis.set_tick_params(labelsize=12)\n",
    "\n",
    "    ax.xaxis.set_ticks_position('bottom')\n",
    "    ax.xaxis.set_tick_params(width=2, length=7, color='grey', labelsize=12)\n",
    "\n",
    "    \n",
    "    \n",
    "    \n",
    "    #grades_count.plot(kind='bar',legend=False,grid=True,title=reviewer)\n",
    "    \n",
    "plt.show()"
   ]
  },
  {
   "cell_type": "markdown",
   "metadata": {
    "collapsed": true
   },
   "source": [
    "---\n",
    "\n",
    "# Calculate the review GPA\n",
    "\n",
    "Ignore any of the \"Miscellaneous\" category entries, mostly those are \"Rant\" and \"Squee\" reviews. It's like an audit. \n",
    "\n",
    "This calculation could be put into the title of the above bar charts."
   ]
  },
  {
   "cell_type": "code",
   "execution_count": null,
   "metadata": {
    "collapsed": false
   },
   "outputs": [],
   "source": [
    "for i, reviewer in enumerate(reviewer_count.index):\n",
    "    grades = df[(df['Reviewer']==reviewer) & (df['grade_num']>-1)]['grade_num']\n",
    "    print('{} GPA: {:.2f}'.format(reviewer, grades.sum()/grades.count()))"
   ]
  },
  {
   "cell_type": "markdown",
   "metadata": {},
   "source": [
    "---\n",
    "\n",
    "# Find top genres reviewed\n",
    "\n",
    "I believe \"Romance\" might be one of those genres, so that might need to be kicked out. There might be issues with how genres were done in the past versus now.\n",
    "\n",
    "Multi-genre books have genres separated by semicolons. First, let's do the whole site, then by reviewer. Looping does not feel like the ideal, but the multi-genre thing is a killer.\n",
    "\n",
    "Let's only look at graded reviews, so those not assigned \"misc\" category."
   ]
  },
  {
   "cell_type": "code",
   "execution_count": null,
   "metadata": {
    "collapsed": false
   },
   "outputs": [],
   "source": [
    "genresdb = df[df['grade_num'] > -1]['Genres']; print(\"Total reviews: {}\\n\".format(genresdb.count()))\n",
    "genres = {}\n",
    "for genre in genresdb:\n",
    "    genre_list = [g.strip() for g in genre.split(';')]\n",
    "    for g in genre_list:\n",
    "        genres.setdefault(g, 0)\n",
    "        genres[g] += 1\n",
    "        \n",
    "pprint.pprint(genres)"
   ]
  },
  {
   "cell_type": "markdown",
   "metadata": {},
   "source": [
    "# Find top 5 genres for each reviewer"
   ]
  },
  {
   "cell_type": "code",
   "execution_count": null,
   "metadata": {
    "collapsed": false
   },
   "outputs": [],
   "source": [
    "for i, reviewer in enumerate(reviewer_count.index):\n",
    "    genresdb = df[(df['Reviewer']==reviewer) & (df['grade_num'] > -1)]['Genres']; \n",
    "    \n",
    "    print(\"\\nReviewer: {}\".format(reviewer))\n",
    "    \n",
    "    genres = {}\n",
    "    for genre in genresdb:\n",
    "        genre_list = [g.strip() for g in genre.split(';')]\n",
    "        for g in genre_list:\n",
    "            genres.setdefault(g, 0)\n",
    "            genres[g] += 1\n",
    "    reviewer_genres = pd.DataFrame.from_dict(genres, orient='index').rename(columns={0:'count'})\n",
    "    pprint.pprint(reviewer_genres.sort_values(by='count', ascending=False)[:5])"
   ]
  },
  {
   "cell_type": "code",
   "execution_count": null,
   "metadata": {
    "collapsed": true
   },
   "outputs": [],
   "source": []
  }
 ],
 "metadata": {
  "kernelspec": {
   "display_name": "Python 3",
   "language": "python",
   "name": "python3"
  },
  "language_info": {
   "codemirror_mode": {
    "name": "ipython",
    "version": 3
   },
   "file_extension": ".py",
   "mimetype": "text/x-python",
   "name": "python",
   "nbconvert_exporter": "python",
   "pygments_lexer": "ipython3",
   "version": "3.5.2"
  }
 },
 "nbformat": 4,
 "nbformat_minor": 0
}
