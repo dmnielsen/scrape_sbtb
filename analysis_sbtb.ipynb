{
 "cells": [
  {
   "cell_type": "code",
   "execution_count": null,
   "metadata": {
    "collapsed": true
   },
   "outputs": [],
   "source": [
    "%matplotlib inline\n",
    "\n",
    "import matplotlib.pyplot as plt\n",
    "import pandas as pd\n",
    "import numpy as np\n",
    "import sqlite3 as sql"
   ]
  },
  {
   "cell_type": "code",
   "execution_count": null,
   "metadata": {
    "collapsed": false
   },
   "outputs": [],
   "source": [
    "# open database, import data into pandas\n",
    "conn = sql.connect(\"sbtb.db\")\n",
    "df = pd.read_sql_query(\"SELECT * from Reviews;\", conn)\n",
    "\n",
    "print(df.head())\n",
    "\n",
    "conn.close()"
   ]
  },
  {
   "cell_type": "code",
   "execution_count": null,
   "metadata": {
    "collapsed": false
   },
   "outputs": [],
   "source": [
    "#print(df['Reviewer'].unique())\n",
    "reviewers = df[['Reviewer','Id']]\n",
    "reviewer_count = reviewers.groupby('Reviewer').count()\n",
    "print(reviewer_count)\n",
    "reviewer_count.sort_values(['Id']).plot(kind='barh',sort_columns=True,legend=False)"
   ]
  },
  {
   "cell_type": "markdown",
   "metadata": {},
   "source": [
    "---\n",
    "\n",
    "## Rendering grades\n",
    "\n",
    "For proper rendering of column names, grades should be converted to numbers. \n",
    "\n",
    "Let's use a 5 point scale +/- 0.3 for plus and minus."
   ]
  },
  {
   "cell_type": "code",
   "execution_count": null,
   "metadata": {
    "collapsed": false
   },
   "outputs": [],
   "source": [
    "print(df.Grade.unique())\n",
    "grade_dict = {\n",
    "    'A+': 5.3,\n",
    "    'A' : 5.0,\n",
    "    'A-': 4.7,\n",
    "    'B+': 4.3,\n",
    "    'B' : 4.0,\n",
    "    'B-': 3.7,\n",
    "    'C+': 3.3,\n",
    "    'C' : 3.0,\n",
    "    'C-': 2.7,\n",
    "    'D+': 2.3,\n",
    "    'D' : 2.0,\n",
    "    'D-': 1.7,\n",
    "    'F+': 1.3,\n",
    "    'F' : 1.0,\n",
    "    'DNF' : 0.,\n",
    "    'Rant' : -1,\n",
    "    'Squee' : -1,\n",
    "    'N/A' : -1\n",
    "}"
   ]
  },
  {
   "cell_type": "code",
   "execution_count": null,
   "metadata": {
    "collapsed": true
   },
   "outputs": [],
   "source": [
    "for grade in grade_dict:\n",
    "    df.loc[df[\"Grade\"] == grade,\"Grade\"] = grade_dict[grade]"
   ]
  },
  {
   "cell_type": "code",
   "execution_count": null,
   "metadata": {
    "collapsed": false
   },
   "outputs": [],
   "source": [
    "grades = df[['Grade','Id']]\n",
    "grades_count = grades.groupby('Grade').count()\n",
    "#print(grades_count)\n",
    "#grades_count.sort_values(['Id']).plot(kind='barh',legend=False,grid=True)\n",
    "grades_count.plot(kind='barh',legend=False,grid=True)"
   ]
  },
  {
   "cell_type": "markdown",
   "metadata": {},
   "source": [
    "Now we want to look at grade distributions for each reviewer. \n",
    "I would expect Guest Reviews are going to be bimodal (very positive or very negative)."
   ]
  },
  {
   "cell_type": "code",
   "execution_count": null,
   "metadata": {
    "collapsed": false
   },
   "outputs": [],
   "source": [
    "reviewers = df['Reviewer'].unique()\n",
    "for reviewer in reviewers:\n",
    "    print(reviewer)\n",
    "    grades = df[df['Reviewer']== reviewer]\n",
    "    grades = grades[['Grade','Id']]\n",
    "    #print(grades)\n",
    "    grades_count = grades.groupby('Grade').count()\n",
    "    #print(grades_count)\n",
    "    grades_count.plot(kind='bar',legend=False,grid=True,title=reviewer)"
   ]
  },
  {
   "cell_type": "code",
   "execution_count": null,
   "metadata": {
    "collapsed": true
   },
   "outputs": [],
   "source": []
  }
 ],
 "metadata": {
  "kernelspec": {
   "display_name": "Python 3",
   "language": "python",
   "name": "python3"
  },
  "language_info": {
   "codemirror_mode": {
    "name": "ipython",
    "version": 3
   },
   "file_extension": ".py",
   "mimetype": "text/x-python",
   "name": "python",
   "nbconvert_exporter": "python",
   "pygments_lexer": "ipython3",
   "version": "3.5.2"
  }
 },
 "nbformat": 4,
 "nbformat_minor": 0
}
